{
  "cells": [
    {
      "cell_type": "code",
      "execution_count": null,
      "metadata": {
        "colab": {
          "background_save": true,
          "base_uri": "https://localhost:8080/"
        },
        "id": "XawDAVUSdP_9",
        "outputId": "9d80c2d9-1995-4220-f260-0ade118e3bfc"
      },
      "outputs": [
        {
          "name": "stdout",
          "output_type": "stream",
          "text": [
            "TF version: 2.8.2\n",
            "Hub version: 0.12.0\n",
            "Gpu is available\n"
          ]
        }
      ],
      "source": [
        "#OmSaiRam\n",
        "import tensorflow as tf\n",
        "from tensorflow import keras\n",
        "# import tensorflow.keras.preprocessing\n",
        "import itertools\n",
        "import os\n",
        "\n",
        "import matplotlib.pylab as plt\n",
        "import numpy as np\n",
        "\n",
        "# import tensorflow as tf\n",
        "import tensorflow_hub as hub\n",
        "import pandas as pd\n",
        "import cv2\n",
        "import math\n",
        "import random\n",
        "import shutil\n",
        "from sklearn.preprocessing import QuantileTransformer\n",
        "from PIL import Image\n",
        "import warnings\n",
        "warnings.filterwarnings(\"ignore\")\n",
        "\n",
        "print(\"TF version:\", tf.__version__)\n",
        "print(\"Hub version:\", hub.__version__)\n",
        "print(\"Gpu is\", \"available\" if tf.config.list_physical_devices('GPU') else \"NOT AVAILABLE\")"
      ]
    },
    {
      "cell_type": "markdown",
      "metadata": {
        "id": "u_vkMwVMSDEz"
      },
      "source": [
        "---\n",
        "---"
      ]
    },
    {
      "cell_type": "code",
      "execution_count": null,
      "metadata": {
        "colab": {
          "background_save": true
        },
        "id": "W939vlynauYp"
      },
      "outputs": [],
      "source": [
        "import pandas as pd\n",
        "import cv2\n",
        "import math\n",
        "import random\n",
        "import shutil\n",
        "from sklearn.preprocessing import QuantileTransformer\n",
        "from PIL import Image\n",
        "import warnings\n",
        "warnings.filterwarnings(\"ignore\")"
      ]
    },
    {
      "cell_type": "markdown",
      "metadata": {
        "id": "Eo2jOfu3SEf4"
      },
      "source": [
        "---"
      ]
    },
    {
      "cell_type": "code",
      "execution_count": null,
      "metadata": {
        "colab": {
          "background_save": true,
          "base_uri": "https://localhost:8080/"
        },
        "id": "t-uWaX87BIqg",
        "outputId": "c9a9eed8-d4ed-4431-c5f2-97a8c00c49b3"
      },
      "outputs": [
        {
          "name": "stdout",
          "output_type": "stream",
          "text": [
            "<class 'str'>\n"
          ]
        },
        {
          "ename": "BadZipFile",
          "evalue": "ignored",
          "output_type": "error",
          "traceback": [
            "\u001b[0;31m---------------------------------------------------------------------------\u001b[0m",
            "\u001b[0;31mBadZipFile\u001b[0m                                Traceback (most recent call last)",
            "\u001b[0;32m<ipython-input-3-d57f90761f5b>\u001b[0m in \u001b[0;36m<module>\u001b[0;34m\u001b[0m\n\u001b[1;32m      2\u001b[0m \u001b[0mlocal_zip\u001b[0m \u001b[0;34m=\u001b[0m \u001b[0;34m'./carhacking.zip'\u001b[0m\u001b[0;34m\u001b[0m\u001b[0;34m\u001b[0m\u001b[0m\n\u001b[1;32m      3\u001b[0m \u001b[0mprint\u001b[0m\u001b[0;34m(\u001b[0m\u001b[0mtype\u001b[0m\u001b[0;34m(\u001b[0m\u001b[0mlocal_zip\u001b[0m\u001b[0;34m)\u001b[0m\u001b[0;34m)\u001b[0m\u001b[0;34m\u001b[0m\u001b[0;34m\u001b[0m\u001b[0m\n\u001b[0;32m----> 4\u001b[0;31m \u001b[0mzip_ref\u001b[0m\u001b[0;34m=\u001b[0m \u001b[0mzipfile\u001b[0m\u001b[0;34m.\u001b[0m\u001b[0mZipFile\u001b[0m\u001b[0;34m(\u001b[0m\u001b[0mlocal_zip\u001b[0m\u001b[0;34m,\u001b[0m\u001b[0;34m'r'\u001b[0m\u001b[0;34m)\u001b[0m\u001b[0;34m\u001b[0m\u001b[0;34m\u001b[0m\u001b[0m\n\u001b[0m\u001b[1;32m      5\u001b[0m \u001b[0mzip_ref\u001b[0m\u001b[0;34m.\u001b[0m\u001b[0mextractall\u001b[0m\u001b[0;34m(\u001b[0m\u001b[0;34m'tmp/datacarhacking'\u001b[0m\u001b[0;34m)\u001b[0m\u001b[0;34m\u001b[0m\u001b[0;34m\u001b[0m\u001b[0m\n\u001b[1;32m      6\u001b[0m \u001b[0mzip_ref\u001b[0m\u001b[0;34m.\u001b[0m\u001b[0mclose\u001b[0m\u001b[0;34m(\u001b[0m\u001b[0;34m)\u001b[0m\u001b[0;34m\u001b[0m\u001b[0;34m\u001b[0m\u001b[0m\n",
            "\u001b[0;32m/usr/lib/python3.7/zipfile.py\u001b[0m in \u001b[0;36m__init__\u001b[0;34m(self, file, mode, compression, allowZip64, compresslevel)\u001b[0m\n\u001b[1;32m   1256\u001b[0m         \u001b[0;32mtry\u001b[0m\u001b[0;34m:\u001b[0m\u001b[0;34m\u001b[0m\u001b[0;34m\u001b[0m\u001b[0m\n\u001b[1;32m   1257\u001b[0m             \u001b[0;32mif\u001b[0m \u001b[0mmode\u001b[0m \u001b[0;34m==\u001b[0m \u001b[0;34m'r'\u001b[0m\u001b[0;34m:\u001b[0m\u001b[0;34m\u001b[0m\u001b[0;34m\u001b[0m\u001b[0m\n\u001b[0;32m-> 1258\u001b[0;31m                 \u001b[0mself\u001b[0m\u001b[0;34m.\u001b[0m\u001b[0m_RealGetContents\u001b[0m\u001b[0;34m(\u001b[0m\u001b[0;34m)\u001b[0m\u001b[0;34m\u001b[0m\u001b[0;34m\u001b[0m\u001b[0m\n\u001b[0m\u001b[1;32m   1259\u001b[0m             \u001b[0;32melif\u001b[0m \u001b[0mmode\u001b[0m \u001b[0;32min\u001b[0m \u001b[0;34m(\u001b[0m\u001b[0;34m'w'\u001b[0m\u001b[0;34m,\u001b[0m \u001b[0;34m'x'\u001b[0m\u001b[0;34m)\u001b[0m\u001b[0;34m:\u001b[0m\u001b[0;34m\u001b[0m\u001b[0;34m\u001b[0m\u001b[0m\n\u001b[1;32m   1260\u001b[0m                 \u001b[0;31m# set the modified flag so central directory gets written\u001b[0m\u001b[0;34m\u001b[0m\u001b[0;34m\u001b[0m\u001b[0;34m\u001b[0m\u001b[0m\n",
            "\u001b[0;32m/usr/lib/python3.7/zipfile.py\u001b[0m in \u001b[0;36m_RealGetContents\u001b[0;34m(self)\u001b[0m\n\u001b[1;32m   1323\u001b[0m             \u001b[0;32mraise\u001b[0m \u001b[0mBadZipFile\u001b[0m\u001b[0;34m(\u001b[0m\u001b[0;34m\"File is not a zip file\"\u001b[0m\u001b[0;34m)\u001b[0m\u001b[0;34m\u001b[0m\u001b[0;34m\u001b[0m\u001b[0m\n\u001b[1;32m   1324\u001b[0m         \u001b[0;32mif\u001b[0m \u001b[0;32mnot\u001b[0m \u001b[0mendrec\u001b[0m\u001b[0;34m:\u001b[0m\u001b[0;34m\u001b[0m\u001b[0;34m\u001b[0m\u001b[0m\n\u001b[0;32m-> 1325\u001b[0;31m             \u001b[0;32mraise\u001b[0m \u001b[0mBadZipFile\u001b[0m\u001b[0;34m(\u001b[0m\u001b[0;34m\"File is not a zip file\"\u001b[0m\u001b[0;34m)\u001b[0m\u001b[0;34m\u001b[0m\u001b[0;34m\u001b[0m\u001b[0m\n\u001b[0m\u001b[1;32m   1326\u001b[0m         \u001b[0;32mif\u001b[0m \u001b[0mself\u001b[0m\u001b[0;34m.\u001b[0m\u001b[0mdebug\u001b[0m \u001b[0;34m>\u001b[0m \u001b[0;36m1\u001b[0m\u001b[0;34m:\u001b[0m\u001b[0;34m\u001b[0m\u001b[0;34m\u001b[0m\u001b[0m\n\u001b[1;32m   1327\u001b[0m             \u001b[0mprint\u001b[0m\u001b[0;34m(\u001b[0m\u001b[0mendrec\u001b[0m\u001b[0;34m)\u001b[0m\u001b[0;34m\u001b[0m\u001b[0;34m\u001b[0m\u001b[0m\n",
            "\u001b[0;31mBadZipFile\u001b[0m: File is not a zip file"
          ]
        }
      ],
      "source": [
        "import zipfile\n",
        "local_zip = './carhacking.zip'\n",
        "zip_ref= zipfile.ZipFile(local_zip,'r')\n",
        "zip_ref.extractall('tmp/datacarhacking')\n",
        "zip_ref.close()"
      ]
    },
    {
      "cell_type": "markdown",
      "metadata": {
        "id": "jznDtAkPSFnZ"
      },
      "source": [
        "---"
      ]
    },
    {
      "cell_type": "code",
      "execution_count": null,
      "metadata": {
        "colab": {
          "base_uri": "https://localhost:8080/",
          "height": 424
        },
        "id": "pAcqp2TnVj5j",
        "outputId": "99c1d5ba-4004-4956-ce63-095563cfcc3d"
      },
      "outputs": [
        {
          "data": {
            "text/html": [
              "\n",
              "  <div id=\"df-2903d5a9-0e17-4d90-9aff-08effd43f3ec\">\n",
              "    <div class=\"colab-df-container\">\n",
              "      <div>\n",
              "<style scoped>\n",
              "    .dataframe tbody tr th:only-of-type {\n",
              "        vertical-align: middle;\n",
              "    }\n",
              "\n",
              "    .dataframe tbody tr th {\n",
              "        vertical-align: top;\n",
              "    }\n",
              "\n",
              "    .dataframe thead th {\n",
              "        text-align: right;\n",
              "    }\n",
              "</style>\n",
              "<table border=\"1\" class=\"dataframe\">\n",
              "  <thead>\n",
              "    <tr style=\"text-align: right;\">\n",
              "      <th></th>\n",
              "      <th>CAN ID</th>\n",
              "      <th>DATA[0]</th>\n",
              "      <th>DATA[1]</th>\n",
              "      <th>DATA[2]</th>\n",
              "      <th>DATA[3]</th>\n",
              "      <th>DATA[4]</th>\n",
              "      <th>DATA[5]</th>\n",
              "      <th>DATA[6]</th>\n",
              "      <th>DATA[7]</th>\n",
              "      <th>Label</th>\n",
              "    </tr>\n",
              "  </thead>\n",
              "  <tbody>\n",
              "    <tr>\n",
              "      <th>0</th>\n",
              "      <td>1201</td>\n",
              "      <td>41</td>\n",
              "      <td>39</td>\n",
              "      <td>39</td>\n",
              "      <td>35</td>\n",
              "      <td>0</td>\n",
              "      <td>0</td>\n",
              "      <td>0</td>\n",
              "      <td>154</td>\n",
              "      <td>R</td>\n",
              "    </tr>\n",
              "    <tr>\n",
              "      <th>1</th>\n",
              "      <td>809</td>\n",
              "      <td>64</td>\n",
              "      <td>187</td>\n",
              "      <td>127</td>\n",
              "      <td>20</td>\n",
              "      <td>17</td>\n",
              "      <td>32</td>\n",
              "      <td>0</td>\n",
              "      <td>20</td>\n",
              "      <td>R</td>\n",
              "    </tr>\n",
              "    <tr>\n",
              "      <th>2</th>\n",
              "      <td>1349</td>\n",
              "      <td>216</td>\n",
              "      <td>0</td>\n",
              "      <td>0</td>\n",
              "      <td>136</td>\n",
              "      <td>0</td>\n",
              "      <td>0</td>\n",
              "      <td>0</td>\n",
              "      <td>0</td>\n",
              "      <td>R</td>\n",
              "    </tr>\n",
              "    <tr>\n",
              "      <th>3</th>\n",
              "      <td>1201</td>\n",
              "      <td>41</td>\n",
              "      <td>39</td>\n",
              "      <td>39</td>\n",
              "      <td>35</td>\n",
              "      <td>0</td>\n",
              "      <td>0</td>\n",
              "      <td>0</td>\n",
              "      <td>154</td>\n",
              "      <td>R</td>\n",
              "    </tr>\n",
              "    <tr>\n",
              "      <th>4</th>\n",
              "      <td>2</td>\n",
              "      <td>0</td>\n",
              "      <td>0</td>\n",
              "      <td>0</td>\n",
              "      <td>0</td>\n",
              "      <td>0</td>\n",
              "      <td>3</td>\n",
              "      <td>2</td>\n",
              "      <td>228</td>\n",
              "      <td>R</td>\n",
              "    </tr>\n",
              "    <tr>\n",
              "      <th>...</th>\n",
              "      <td>...</td>\n",
              "      <td>...</td>\n",
              "      <td>...</td>\n",
              "      <td>...</td>\n",
              "      <td>...</td>\n",
              "      <td>...</td>\n",
              "      <td>...</td>\n",
              "      <td>...</td>\n",
              "      <td>...</td>\n",
              "      <td>...</td>\n",
              "    </tr>\n",
              "    <tr>\n",
              "      <th>818435</th>\n",
              "      <td>848</td>\n",
              "      <td>5</td>\n",
              "      <td>32</td>\n",
              "      <td>52</td>\n",
              "      <td>104</td>\n",
              "      <td>117</td>\n",
              "      <td>0</td>\n",
              "      <td>0</td>\n",
              "      <td>12</td>\n",
              "      <td>R</td>\n",
              "    </tr>\n",
              "    <tr>\n",
              "      <th>818436</th>\n",
              "      <td>1088</td>\n",
              "      <td>255</td>\n",
              "      <td>0</td>\n",
              "      <td>0</td>\n",
              "      <td>0</td>\n",
              "      <td>255</td>\n",
              "      <td>134</td>\n",
              "      <td>9</td>\n",
              "      <td>0</td>\n",
              "      <td>R</td>\n",
              "    </tr>\n",
              "    <tr>\n",
              "      <th>818437</th>\n",
              "      <td>848</td>\n",
              "      <td>5</td>\n",
              "      <td>32</td>\n",
              "      <td>100</td>\n",
              "      <td>104</td>\n",
              "      <td>117</td>\n",
              "      <td>0</td>\n",
              "      <td>0</td>\n",
              "      <td>92</td>\n",
              "      <td>R</td>\n",
              "    </tr>\n",
              "    <tr>\n",
              "      <th>818438</th>\n",
              "      <td>1349</td>\n",
              "      <td>216</td>\n",
              "      <td>90</td>\n",
              "      <td>0</td>\n",
              "      <td>137</td>\n",
              "      <td>0</td>\n",
              "      <td>0</td>\n",
              "      <td>0</td>\n",
              "      <td>0</td>\n",
              "      <td>R</td>\n",
              "    </tr>\n",
              "    <tr>\n",
              "      <th>818439</th>\n",
              "      <td>790</td>\n",
              "      <td>5</td>\n",
              "      <td>33</td>\n",
              "      <td>48</td>\n",
              "      <td>10</td>\n",
              "      <td>33</td>\n",
              "      <td>30</td>\n",
              "      <td>0</td>\n",
              "      <td>111</td>\n",
              "      <td>R</td>\n",
              "    </tr>\n",
              "  </tbody>\n",
              "</table>\n",
              "<p>818440 rows × 10 columns</p>\n",
              "</div>\n",
              "      <button class=\"colab-df-convert\" onclick=\"convertToInteractive('df-2903d5a9-0e17-4d90-9aff-08effd43f3ec')\"\n",
              "              title=\"Convert this dataframe to an interactive table.\"\n",
              "              style=\"display:none;\">\n",
              "        \n",
              "  <svg xmlns=\"http://www.w3.org/2000/svg\" height=\"24px\"viewBox=\"0 0 24 24\"\n",
              "       width=\"24px\">\n",
              "    <path d=\"M0 0h24v24H0V0z\" fill=\"none\"/>\n",
              "    <path d=\"M18.56 5.44l.94 2.06.94-2.06 2.06-.94-2.06-.94-.94-2.06-.94 2.06-2.06.94zm-11 1L8.5 8.5l.94-2.06 2.06-.94-2.06-.94L8.5 2.5l-.94 2.06-2.06.94zm10 10l.94 2.06.94-2.06 2.06-.94-2.06-.94-.94-2.06-.94 2.06-2.06.94z\"/><path d=\"M17.41 7.96l-1.37-1.37c-.4-.4-.92-.59-1.43-.59-.52 0-1.04.2-1.43.59L10.3 9.45l-7.72 7.72c-.78.78-.78 2.05 0 2.83L4 21.41c.39.39.9.59 1.41.59.51 0 1.02-.2 1.41-.59l7.78-7.78 2.81-2.81c.8-.78.8-2.07 0-2.86zM5.41 20L4 18.59l7.72-7.72 1.47 1.35L5.41 20z\"/>\n",
              "  </svg>\n",
              "      </button>\n",
              "      \n",
              "  <style>\n",
              "    .colab-df-container {\n",
              "      display:flex;\n",
              "      flex-wrap:wrap;\n",
              "      gap: 12px;\n",
              "    }\n",
              "\n",
              "    .colab-df-convert {\n",
              "      background-color: #E8F0FE;\n",
              "      border: none;\n",
              "      border-radius: 50%;\n",
              "      cursor: pointer;\n",
              "      display: none;\n",
              "      fill: #1967D2;\n",
              "      height: 32px;\n",
              "      padding: 0 0 0 0;\n",
              "      width: 32px;\n",
              "    }\n",
              "\n",
              "    .colab-df-convert:hover {\n",
              "      background-color: #E2EBFA;\n",
              "      box-shadow: 0px 1px 2px rgba(60, 64, 67, 0.3), 0px 1px 3px 1px rgba(60, 64, 67, 0.15);\n",
              "      fill: #174EA6;\n",
              "    }\n",
              "\n",
              "    [theme=dark] .colab-df-convert {\n",
              "      background-color: #3B4455;\n",
              "      fill: #D2E3FC;\n",
              "    }\n",
              "\n",
              "    [theme=dark] .colab-df-convert:hover {\n",
              "      background-color: #434B5C;\n",
              "      box-shadow: 0px 1px 3px 1px rgba(0, 0, 0, 0.15);\n",
              "      filter: drop-shadow(0px 1px 2px rgba(0, 0, 0, 0.3));\n",
              "      fill: #FFFFFF;\n",
              "    }\n",
              "  </style>\n",
              "\n",
              "      <script>\n",
              "        const buttonEl =\n",
              "          document.querySelector('#df-2903d5a9-0e17-4d90-9aff-08effd43f3ec button.colab-df-convert');\n",
              "        buttonEl.style.display =\n",
              "          google.colab.kernel.accessAllowed ? 'block' : 'none';\n",
              "\n",
              "        async function convertToInteractive(key) {\n",
              "          const element = document.querySelector('#df-2903d5a9-0e17-4d90-9aff-08effd43f3ec');\n",
              "          const dataTable =\n",
              "            await google.colab.kernel.invokeFunction('convertToInteractive',\n",
              "                                                     [key], {});\n",
              "          if (!dataTable) return;\n",
              "\n",
              "          const docLinkHtml = 'Like what you see? Visit the ' +\n",
              "            '<a target=\"_blank\" href=https://colab.research.google.com/notebooks/data_table.ipynb>data table notebook</a>'\n",
              "            + ' to learn more about interactive tables.';\n",
              "          element.innerHTML = '';\n",
              "          dataTable['output_type'] = 'display_data';\n",
              "          await google.colab.output.renderOutput(dataTable, element);\n",
              "          const docLink = document.createElement('div');\n",
              "          docLink.innerHTML = docLinkHtml;\n",
              "          element.appendChild(docLink);\n",
              "        }\n",
              "      </script>\n",
              "    </div>\n",
              "  </div>\n",
              "  "
            ],
            "text/plain": [
              "        CAN ID  DATA[0]  DATA[1]  DATA[2]  DATA[3]  DATA[4]  DATA[5]  DATA[6]  \\\n",
              "0         1201       41       39       39       35        0        0        0   \n",
              "1          809       64      187      127       20       17       32        0   \n",
              "2         1349      216        0        0      136        0        0        0   \n",
              "3         1201       41       39       39       35        0        0        0   \n",
              "4            2        0        0        0        0        0        3        2   \n",
              "...        ...      ...      ...      ...      ...      ...      ...      ...   \n",
              "818435     848        5       32       52      104      117        0        0   \n",
              "818436    1088      255        0        0        0      255      134        9   \n",
              "818437     848        5       32      100      104      117        0        0   \n",
              "818438    1349      216       90        0      137        0        0        0   \n",
              "818439     790        5       33       48       10       33       30        0   \n",
              "\n",
              "        DATA[7] Label  \n",
              "0           154     R  \n",
              "1            20     R  \n",
              "2             0     R  \n",
              "3           154     R  \n",
              "4           228     R  \n",
              "...         ...   ...  \n",
              "818435       12     R  \n",
              "818436        0     R  \n",
              "818437       92     R  \n",
              "818438        0     R  \n",
              "818439      111     R  \n",
              "\n",
              "[818440 rows x 10 columns]"
            ]
          },
          "execution_count": 4,
          "metadata": {},
          "output_type": "execute_result"
        }
      ],
      "source": [
        "import io\n",
        "\n",
        "df = pd.read_csv('/content/tmp/datacarhacking/carhacking.csv')\n",
        "df\n"
      ]
    },
    {
      "cell_type": "markdown",
      "metadata": {
        "id": "9YC-SD-_SHmT"
      },
      "source": [
        "---"
      ]
    },
    {
      "cell_type": "code",
      "execution_count": null,
      "metadata": {
        "colab": {
          "base_uri": "https://localhost:8080/"
        },
        "id": "F6kBVIwghZiJ",
        "outputId": "59f56aaf-b3e5-48f5-c7a4-ddfb061c00c4"
      },
      "outputs": [
        {
          "data": {
            "text/plain": [
              "R        701832\n",
              "RPM       32539\n",
              "gear      29944\n",
              "DoS       29501\n",
              "Fuzzy     24624\n",
              "Name: Label, dtype: int64"
            ]
          },
          "execution_count": 5,
          "metadata": {},
          "output_type": "execute_result"
        }
      ],
      "source": [
        "df.Label.value_counts()"
      ]
    },
    {
      "cell_type": "markdown",
      "metadata": {
        "id": "RQ07P205SIZ4"
      },
      "source": [
        "---"
      ]
    },
    {
      "cell_type": "markdown",
      "metadata": {
        "id": "WZXqe1ZqSJBQ"
      },
      "source": [
        "---"
      ]
    },
    {
      "cell_type": "code",
      "execution_count": null,
      "metadata": {
        "colab": {
          "base_uri": "https://localhost:8080/",
          "height": 364
        },
        "id": "-4OAB7GwoVor",
        "outputId": "b85cfe67-32b9-4244-ed31-170fc80db0a9"
      },
      "outputs": [
        {
          "data": {
            "text/html": [
              "\n",
              "  <div id=\"df-5023fb60-66b3-4b53-8745-0fee0c498abc\">\n",
              "    <div class=\"colab-df-container\">\n",
              "      <div>\n",
              "<style scoped>\n",
              "    .dataframe tbody tr th:only-of-type {\n",
              "        vertical-align: middle;\n",
              "    }\n",
              "\n",
              "    .dataframe tbody tr th {\n",
              "        vertical-align: top;\n",
              "    }\n",
              "\n",
              "    .dataframe thead th {\n",
              "        text-align: right;\n",
              "    }\n",
              "</style>\n",
              "<table border=\"1\" class=\"dataframe\">\n",
              "  <thead>\n",
              "    <tr style=\"text-align: right;\">\n",
              "      <th></th>\n",
              "      <th>CAN ID</th>\n",
              "      <th>DATA[0]</th>\n",
              "      <th>DATA[1]</th>\n",
              "      <th>DATA[2]</th>\n",
              "      <th>DATA[3]</th>\n",
              "      <th>DATA[4]</th>\n",
              "      <th>DATA[5]</th>\n",
              "      <th>DATA[6]</th>\n",
              "      <th>DATA[7]</th>\n",
              "    </tr>\n",
              "  </thead>\n",
              "  <tbody>\n",
              "    <tr>\n",
              "      <th>count</th>\n",
              "      <td>818440.000000</td>\n",
              "      <td>818440.000000</td>\n",
              "      <td>818440.000000</td>\n",
              "      <td>818440.000000</td>\n",
              "      <td>818440.000000</td>\n",
              "      <td>818440.000000</td>\n",
              "      <td>818440.000000</td>\n",
              "      <td>818440.00000</td>\n",
              "      <td>818440.000000</td>\n",
              "    </tr>\n",
              "    <tr>\n",
              "      <th>mean</th>\n",
              "      <td>177857.956399</td>\n",
              "      <td>14824.857021</td>\n",
              "      <td>11683.357907</td>\n",
              "      <td>10306.053816</td>\n",
              "      <td>20066.007453</td>\n",
              "      <td>13100.343031</td>\n",
              "      <td>15761.076603</td>\n",
              "      <td>6694.90218</td>\n",
              "      <td>13792.541035</td>\n",
              "    </tr>\n",
              "    <tr>\n",
              "      <th>std</th>\n",
              "      <td>100114.135989</td>\n",
              "      <td>22887.969864</td>\n",
              "      <td>13876.396964</td>\n",
              "      <td>14921.740234</td>\n",
              "      <td>26111.180561</td>\n",
              "      <td>18646.509200</td>\n",
              "      <td>19712.149872</td>\n",
              "      <td>14620.53158</td>\n",
              "      <td>20435.665598</td>\n",
              "    </tr>\n",
              "    <tr>\n",
              "      <th>min</th>\n",
              "      <td>0.000000</td>\n",
              "      <td>0.000000</td>\n",
              "      <td>0.000000</td>\n",
              "      <td>0.000000</td>\n",
              "      <td>0.000000</td>\n",
              "      <td>0.000000</td>\n",
              "      <td>0.000000</td>\n",
              "      <td>0.00000</td>\n",
              "      <td>0.000000</td>\n",
              "    </tr>\n",
              "    <tr>\n",
              "      <th>25%</th>\n",
              "      <td>86445.000000</td>\n",
              "      <td>0.000000</td>\n",
              "      <td>0.000000</td>\n",
              "      <td>0.000000</td>\n",
              "      <td>0.000000</td>\n",
              "      <td>0.000000</td>\n",
              "      <td>0.000000</td>\n",
              "      <td>0.00000</td>\n",
              "      <td>0.000000</td>\n",
              "    </tr>\n",
              "    <tr>\n",
              "      <th>50%</th>\n",
              "      <td>179520.000000</td>\n",
              "      <td>2040.000000</td>\n",
              "      <td>8160.000000</td>\n",
              "      <td>0.000000</td>\n",
              "      <td>5100.000000</td>\n",
              "      <td>4080.000000</td>\n",
              "      <td>8160.000000</td>\n",
              "      <td>0.00000</td>\n",
              "      <td>0.000000</td>\n",
              "    </tr>\n",
              "    <tr>\n",
              "      <th>75%</th>\n",
              "      <td>273360.000000</td>\n",
              "      <td>17595.000000</td>\n",
              "      <td>17595.000000</td>\n",
              "      <td>24480.000000</td>\n",
              "      <td>34935.000000</td>\n",
              "      <td>27285.000000</td>\n",
              "      <td>32385.000000</td>\n",
              "      <td>2550.00000</td>\n",
              "      <td>27795.000000</td>\n",
              "    </tr>\n",
              "    <tr>\n",
              "      <th>max</th>\n",
              "      <td>521985.000000</td>\n",
              "      <td>65025.000000</td>\n",
              "      <td>65025.000000</td>\n",
              "      <td>65025.000000</td>\n",
              "      <td>65025.000000</td>\n",
              "      <td>65025.000000</td>\n",
              "      <td>65025.000000</td>\n",
              "      <td>65025.00000</td>\n",
              "      <td>65025.000000</td>\n",
              "    </tr>\n",
              "  </tbody>\n",
              "</table>\n",
              "</div>\n",
              "      <button class=\"colab-df-convert\" onclick=\"convertToInteractive('df-5023fb60-66b3-4b53-8745-0fee0c498abc')\"\n",
              "              title=\"Convert this dataframe to an interactive table.\"\n",
              "              style=\"display:none;\">\n",
              "        \n",
              "  <svg xmlns=\"http://www.w3.org/2000/svg\" height=\"24px\"viewBox=\"0 0 24 24\"\n",
              "       width=\"24px\">\n",
              "    <path d=\"M0 0h24v24H0V0z\" fill=\"none\"/>\n",
              "    <path d=\"M18.56 5.44l.94 2.06.94-2.06 2.06-.94-2.06-.94-.94-2.06-.94 2.06-2.06.94zm-11 1L8.5 8.5l.94-2.06 2.06-.94-2.06-.94L8.5 2.5l-.94 2.06-2.06.94zm10 10l.94 2.06.94-2.06 2.06-.94-2.06-.94-.94-2.06-.94 2.06-2.06.94z\"/><path d=\"M17.41 7.96l-1.37-1.37c-.4-.4-.92-.59-1.43-.59-.52 0-1.04.2-1.43.59L10.3 9.45l-7.72 7.72c-.78.78-.78 2.05 0 2.83L4 21.41c.39.39.9.59 1.41.59.51 0 1.02-.2 1.41-.59l7.78-7.78 2.81-2.81c.8-.78.8-2.07 0-2.86zM5.41 20L4 18.59l7.72-7.72 1.47 1.35L5.41 20z\"/>\n",
              "  </svg>\n",
              "      </button>\n",
              "      \n",
              "  <style>\n",
              "    .colab-df-container {\n",
              "      display:flex;\n",
              "      flex-wrap:wrap;\n",
              "      gap: 12px;\n",
              "    }\n",
              "\n",
              "    .colab-df-convert {\n",
              "      background-color: #E8F0FE;\n",
              "      border: none;\n",
              "      border-radius: 50%;\n",
              "      cursor: pointer;\n",
              "      display: none;\n",
              "      fill: #1967D2;\n",
              "      height: 32px;\n",
              "      padding: 0 0 0 0;\n",
              "      width: 32px;\n",
              "    }\n",
              "\n",
              "    .colab-df-convert:hover {\n",
              "      background-color: #E2EBFA;\n",
              "      box-shadow: 0px 1px 2px rgba(60, 64, 67, 0.3), 0px 1px 3px 1px rgba(60, 64, 67, 0.15);\n",
              "      fill: #174EA6;\n",
              "    }\n",
              "\n",
              "    [theme=dark] .colab-df-convert {\n",
              "      background-color: #3B4455;\n",
              "      fill: #D2E3FC;\n",
              "    }\n",
              "\n",
              "    [theme=dark] .colab-df-convert:hover {\n",
              "      background-color: #434B5C;\n",
              "      box-shadow: 0px 1px 3px 1px rgba(0, 0, 0, 0.15);\n",
              "      filter: drop-shadow(0px 1px 2px rgba(0, 0, 0, 0.3));\n",
              "      fill: #FFFFFF;\n",
              "    }\n",
              "  </style>\n",
              "\n",
              "      <script>\n",
              "        const buttonEl =\n",
              "          document.querySelector('#df-5023fb60-66b3-4b53-8745-0fee0c498abc button.colab-df-convert');\n",
              "        buttonEl.style.display =\n",
              "          google.colab.kernel.accessAllowed ? 'block' : 'none';\n",
              "\n",
              "        async function convertToInteractive(key) {\n",
              "          const element = document.querySelector('#df-5023fb60-66b3-4b53-8745-0fee0c498abc');\n",
              "          const dataTable =\n",
              "            await google.colab.kernel.invokeFunction('convertToInteractive',\n",
              "                                                     [key], {});\n",
              "          if (!dataTable) return;\n",
              "\n",
              "          const docLinkHtml = 'Like what you see? Visit the ' +\n",
              "            '<a target=\"_blank\" href=https://colab.research.google.com/notebooks/data_table.ipynb>data table notebook</a>'\n",
              "            + ' to learn more about interactive tables.';\n",
              "          element.innerHTML = '';\n",
              "          dataTable['output_type'] = 'display_data';\n",
              "          await google.colab.output.renderOutput(dataTable, element);\n",
              "          const docLink = document.createElement('div');\n",
              "          docLink.innerHTML = docLinkHtml;\n",
              "          element.appendChild(docLink);\n",
              "        }\n",
              "      </script>\n",
              "    </div>\n",
              "  </div>\n",
              "  "
            ],
            "text/plain": [
              "              CAN ID        DATA[0]        DATA[1]        DATA[2]  \\\n",
              "count  818440.000000  818440.000000  818440.000000  818440.000000   \n",
              "mean   177857.956399   14824.857021   11683.357907   10306.053816   \n",
              "std    100114.135989   22887.969864   13876.396964   14921.740234   \n",
              "min         0.000000       0.000000       0.000000       0.000000   \n",
              "25%     86445.000000       0.000000       0.000000       0.000000   \n",
              "50%    179520.000000    2040.000000    8160.000000       0.000000   \n",
              "75%    273360.000000   17595.000000   17595.000000   24480.000000   \n",
              "max    521985.000000   65025.000000   65025.000000   65025.000000   \n",
              "\n",
              "             DATA[3]        DATA[4]        DATA[5]       DATA[6]  \\\n",
              "count  818440.000000  818440.000000  818440.000000  818440.00000   \n",
              "mean    20066.007453   13100.343031   15761.076603    6694.90218   \n",
              "std     26111.180561   18646.509200   19712.149872   14620.53158   \n",
              "min         0.000000       0.000000       0.000000       0.00000   \n",
              "25%         0.000000       0.000000       0.000000       0.00000   \n",
              "50%      5100.000000    4080.000000    8160.000000       0.00000   \n",
              "75%     34935.000000   27285.000000   32385.000000    2550.00000   \n",
              "max     65025.000000   65025.000000   65025.000000   65025.00000   \n",
              "\n",
              "             DATA[7]  \n",
              "count  818440.000000  \n",
              "mean    13792.541035  \n",
              "std     20435.665598  \n",
              "min         0.000000  \n",
              "25%         0.000000  \n",
              "50%         0.000000  \n",
              "75%     27795.000000  \n",
              "max     65025.000000  "
            ]
          },
          "execution_count": 6,
          "metadata": {},
          "output_type": "execute_result"
        }
      ],
      "source": [
        "#scale down all the values of the numerics between 0 and 1\n",
        "numeric_features = df.dtypes[df.dtypes != 'object'].index\n",
        "scaler = QuantileTransformer()\n",
        "df[numeric_features] = df[numeric_features].apply(\n",
        "    lambda x: (x*255)\n",
        ")\n",
        "df.describe()"
      ]
    },
    {
      "cell_type": "markdown",
      "metadata": {
        "id": "1LfECticSKpL"
      },
      "source": [
        "---"
      ]
    },
    {
      "cell_type": "code",
      "execution_count": null,
      "metadata": {
        "id": "2WCablUmpsMT"
      },
      "outputs": [],
      "source": [
        "\n",
        "#Generate images for each classes\n",
        "df0=df[df['Label']=='R'].drop(['Label'],axis=1)\n",
        "df1=df[df['Label']=='RPM'].drop(['Label'],axis=1)\n",
        "df2=df[df['Label']=='gear'].drop(['Label'],axis=1)\n",
        "df3=df[df['Label']=='DoS'].drop(['Label'],axis=1)\n",
        "df4=df[df['Label']=='Fuzzy'].drop(['Label'],axis=1)\n"
      ]
    },
    {
      "cell_type": "markdown",
      "metadata": {
        "id": "cbY3EZRySLgR"
      },
      "source": [
        "---"
      ]
    },
    {
      "cell_type": "code",
      "execution_count": null,
      "metadata": {
        "colab": {
          "background_save": true
        },
        "id": "NWSgPm0OTNYh"
      },
      "outputs": [],
      "source": [
        "count=0\n",
        "ims = []\n",
        "\n",
        "image_path = \"train/0/\"\n",
        "os.makedirs(image_path)\n",
        "\n",
        "for i in range(0, len(df0)):\n",
        "    count=count+1\n",
        "    if count<=243:\n",
        "        im=df0.iloc[i].values\n",
        "        ims=np.append(ims,im)\n",
        "    else:\n",
        "        ims=np.array(ims).reshape(27,27, 3)\n",
        "        array = np.array(ims, dtype=np.uint8)\n",
        "        new_image = Image.fromarray(array)\n",
        "        new_image.save(image_path+str(i)+'.png')\n",
        "        count=0\n",
        "        ims = []"
      ]
    },
    {
      "cell_type": "code",
      "execution_count": null,
      "metadata": {
        "id": "CUjJQxOGFoz8"
      },
      "outputs": [],
      "source": [
        "#For class 1 RPM Spoofing Attack\n",
        "count=0\n",
        "ims = []\n",
        "\n",
        "image_path = \"train/1/\"\n",
        "os.makedirs(image_path)\n",
        "\n",
        "\n",
        "for i in range(0, len(df1)):\n",
        "    count=count+1\n",
        "    if count<=243:\n",
        "        im=df1.iloc[i].values\n",
        "        ims=np.append(ims,im)\n",
        "    else:\n",
        "        ims=np.array(ims).reshape(27,27,3)\n",
        "        array = np.array(ims, dtype=np.uint8)\n",
        "        new_image = Image.fromarray(array)\n",
        "        new_image.save(image_path+str(i)+'.png')\n",
        "        count=0\n",
        "        ims = []"
      ]
    },
    {
      "cell_type": "code",
      "execution_count": null,
      "metadata": {
        "id": "V8BX1YNQFoxX"
      },
      "outputs": [],
      "source": [
        "#For class 2 Gear Spoofing Attack\n",
        "count=0\n",
        "ims = []\n",
        "\n",
        "image_path = \"train/2/\"\n",
        "os.makedirs(image_path)\n",
        "\n",
        "\n",
        "for i in range(0, len(df2)):\n",
        "    count=count+1\n",
        "    if count<=243:\n",
        "        im=df2.iloc[i].values\n",
        "        ims=np.append(ims,im)\n",
        "    else:\n",
        "        ims=np.array(ims).reshape(27,27,3)\n",
        "        array = np.array(ims, dtype=np.uint8)\n",
        "        new_image = Image.fromarray(array)\n",
        "        new_image.save(image_path+str(i)+'.png')\n",
        "        count=0\n",
        "        ims = []"
      ]
    },
    {
      "cell_type": "markdown",
      "metadata": {
        "id": "AnUwYXhXSMGo"
      },
      "source": [
        "---"
      ]
    },
    {
      "cell_type": "code",
      "execution_count": null,
      "metadata": {
        "id": "8hbPYIQQUHyn"
      },
      "outputs": [],
      "source": [
        "#For class 3 Dos Attack\n",
        "count=0\n",
        "ims = []\n",
        "\n",
        "image_path = \"train/3/\"\n",
        "os.makedirs(image_path)\n",
        "\n",
        "\n",
        "for i in range(0, len(df3)):\n",
        "    count=count+1\n",
        "    if count<=243:\n",
        "        im=df3.iloc[i].values\n",
        "        ims=np.append(ims,im)\n",
        "    else:\n",
        "        ims=np.array(ims).reshape(27,27,3)\n",
        "        array = np.array(ims, dtype=np.uint8)\n",
        "        new_image = Image.fromarray(array)\n",
        "        new_image.save(image_path+str(i)+'.png')\n",
        "        count=0\n",
        "        ims = []"
      ]
    },
    {
      "cell_type": "markdown",
      "metadata": {
        "id": "mHrib_p7SMrY"
      },
      "source": [
        "---"
      ]
    },
    {
      "cell_type": "code",
      "execution_count": null,
      "metadata": {
        "id": "e_Mzft99UYmD"
      },
      "outputs": [],
      "source": [
        "#For class 4 Fuzzy attack\n",
        "count=0\n",
        "ims = []\n",
        "\n",
        "image_path = \"train/4/\"\n",
        "os.makedirs(image_path)\n",
        "\n",
        "\n",
        "for i in range(0, len(df4)):\n",
        "    count=count+1\n",
        "    if count<=243:\n",
        "        im=df4.iloc[i].values\n",
        "        ims=np.append(ims,im)\n",
        "    else:\n",
        "        ims=np.array(ims).reshape(27,27,3)\n",
        "        array = np.array(ims, dtype=np.uint8)\n",
        "        new_image = Image.fromarray(array)\n",
        "        new_image.save(image_path+str(i)+'.png')\n",
        "        count=0\n",
        "        ims = []"
      ]
    },
    {
      "cell_type": "markdown",
      "metadata": {
        "id": "nBL932GoSNrS"
      },
      "source": [
        "---"
      ]
    },
    {
      "cell_type": "code",
      "execution_count": null,
      "metadata": {
        "colab": {
          "base_uri": "https://localhost:8080/"
        },
        "id": "NRtxUj4YXQeN",
        "outputId": "77339b08-b7f8-4ddc-8498-a7545e3c6407"
      },
      "outputs": [
        {
          "name": "stdout",
          "output_type": "stream",
          "text": [
            "3351\n"
          ]
        }
      ],
      "source": [
        "# Create folders to store images\n",
        "Train_Dir='./train/'\n",
        "Val_Dir='./test/'\n",
        "allimgs=[]\n",
        "for subdir in os.listdir(Train_Dir):\n",
        "    for filename in os.listdir(os.path.join(Train_Dir,subdir)):\n",
        "        filepath=os.path.join(Train_Dir,subdir,filename)\n",
        "        allimgs.append(filepath)\n",
        "print(len(allimgs)) # Print the total number of images"
      ]
    },
    {
      "cell_type": "markdown",
      "metadata": {
        "id": "TbeZKS07SOcq"
      },
      "source": [
        "---"
      ]
    },
    {
      "cell_type": "markdown",
      "metadata": {
        "id": "5gJjuH6eFNXm"
      },
      "source": [
        "From Here We can adjust the size of dataset"
      ]
    },
    {
      "cell_type": "code",
      "execution_count": null,
      "metadata": {
        "id": "78eL7Yf3XR-L"
      },
      "outputs": [],
      "source": [
        "#split a test set from the dataset, train/test size = 80%/20%\n",
        "Numbers=int(len(allimgs)/5) \t#size of test set (20%)\n",
        "\n",
        "def mymovefile(srcfile,dstfile):\n",
        "    if not os.path.isfile(srcfile):\n",
        "        print (\"%s not exist!\"%(srcfile))\n",
        "    else:\n",
        "        fpath,fname=os.path.split(dstfile)\n",
        "        if not os.path.exists(fpath):\n",
        "            os.makedirs(fpath)\n",
        "        shutil.move(srcfile,dstfile)"
      ]
    },
    {
      "cell_type": "markdown",
      "metadata": {
        "id": "sqsMDNvuSPMR"
      },
      "source": [
        "---"
      ]
    },
    {
      "cell_type": "code",
      "execution_count": null,
      "metadata": {
        "colab": {
          "base_uri": "https://localhost:8080/"
        },
        "id": "kvVBALj1XaUW",
        "outputId": "a7d8bb30-e221-4500-a1e2-ea75f0a89397"
      },
      "outputs": [
        {
          "name": "stdout",
          "output_type": "stream",
          "text": [
            "Finish creating test set\n"
          ]
        }
      ],
      "source": [
        "# Create the test set\n",
        "val_imgs=random.sample(allimgs,Numbers)\n",
        "for img in val_imgs:\n",
        "    dest_path=img.replace(Train_Dir,Val_Dir)\n",
        "    mymovefile(img,dest_path)\n",
        "print('Finish creating test set')"
      ]
    },
    {
      "cell_type": "markdown",
      "metadata": {
        "id": "Gf_PrCgDSP5i"
      },
      "source": [
        "---"
      ]
    },
    {
      "cell_type": "code",
      "execution_count": null,
      "metadata": {
        "id": "GY6_WM9_XlG1"
      },
      "outputs": [],
      "source": [
        "#resize the images 224*224 for better CNN training\n",
        "def get_224(folder,dstdir):\n",
        "    imgfilepaths=[]\n",
        "    for root,dirs,imgs in os.walk(folder):\n",
        "        for thisimg in imgs:\n",
        "            thisimg_path=os.path.join(root,thisimg)\n",
        "            imgfilepaths.append(thisimg_path)\n",
        "    for thisimg_path in imgfilepaths:\n",
        "        dir_name,filename=os.path.split(thisimg_path)\n",
        "        dir_name=dir_name.replace(folder,dstdir)\n",
        "        new_file_path=os.path.join(dir_name,filename)\n",
        "        if not os.path.exists(dir_name):\n",
        "            os.makedirs(dir_name)\n",
        "        img=cv2.imread(thisimg_path)\n",
        "        img=cv2.resize(img,(224,224))\n",
        "        cv2.imwrite(new_file_path,img)\n",
        "    print('Finish resizing'.format(folder=folder))"
      ]
    },
    {
      "cell_type": "markdown",
      "metadata": {
        "id": "6AlXBaibSQpK"
      },
      "source": [
        "---"
      ]
    },
    {
      "cell_type": "code",
      "execution_count": null,
      "metadata": {
        "colab": {
          "base_uri": "https://localhost:8080/"
        },
        "id": "E3okmlU-XmdN",
        "outputId": "f5dac7e7-1b9b-4c46-f39e-64bd25a157e0"
      },
      "outputs": [
        {
          "name": "stdout",
          "output_type": "stream",
          "text": [
            "Finish resizing\n"
          ]
        }
      ],
      "source": [
        "DATA_DIR_224='./train_224/'\n",
        "get_224(folder='./train/',dstdir=DATA_DIR_224)\n"
      ]
    },
    {
      "cell_type": "markdown",
      "metadata": {
        "id": "zes0LG2FSRY4"
      },
      "source": [
        "---"
      ]
    },
    {
      "cell_type": "code",
      "execution_count": null,
      "metadata": {
        "colab": {
          "base_uri": "https://localhost:8080/"
        },
        "id": "KS6OTip6XsZ4",
        "outputId": "d916feed-0603-48d0-ad1f-952df7b530e5"
      },
      "outputs": [
        {
          "name": "stdout",
          "output_type": "stream",
          "text": [
            "Finish resizing\n"
          ]
        }
      ],
      "source": [
        "DATA_DIR2_224='./test_224/'\n",
        "get_224(folder='./test/',dstdir=DATA_DIR2_224)\n"
      ]
    },
    {
      "cell_type": "markdown",
      "metadata": {
        "id": "2LrHSBZBSR5w"
      },
      "source": [
        "---"
      ]
    },
    {
      "cell_type": "code",
      "execution_count": null,
      "metadata": {
        "colab": {
          "base_uri": "https://localhost:8080/",
          "height": 160
        },
        "id": "x9cUP64scHu_",
        "outputId": "3ae9ec95-5fca-40b5-9c4f-5bceba3fbbb5"
      },
      "outputs": [
        {
          "data": {
            "image/png": "[encoded data removed]",
            "text/plain": [
              "<Figure size 720x720 with 5 Axes>"
            ]
          },
          "metadata": {},
          "output_type": "display_data"
        }
      ],
      "source": [
        "\n",
        "img1 = Image.open('./train_224/0/10003.png')\n",
        "img2 = Image.open('./train_224/1/10003.png')\n",
        "img3 = Image.open('./train_224/2/10003.png')\n",
        "img4 = Image.open('./train_224/3/10003.png')\n",
        "img5 = Image.open('./train_224/4/10247.png')\n",
        "\n",
        "plt.figure(figsize=(10, 10))\n",
        "plt.subplot(1,5,1)\n",
        "plt.imshow(img1)\n",
        "plt.title(\"Normal\")\n",
        "plt.subplot(1,5,2)\n",
        "plt.imshow(img2)\n",
        "plt.title(\"RPM\")\n",
        "plt.subplot(1,5,3)\n",
        "plt.imshow(img3)\n",
        "plt.title(\"Gear\")\n",
        "plt.subplot(1,5,4)\n",
        "plt.imshow(img4)\n",
        "plt.title(\"Dos\")\n",
        "plt.subplot(1,5,5)\n",
        "plt.imshow(img5)\n",
        "plt.title(\"Fuzzy Attack\")\n",
        "plt.show()  # display it"
      ]
    },
    {
      "cell_type": "markdown",
      "metadata": {
        "id": "pfN59_2TSTAI"
      },
      "source": [
        "---"
      ]
    },
    {
      "cell_type": "markdown",
      "metadata": {
        "id": "k6XLdK8nmlus"
      },
      "source": [
        "---\n",
        "---\n",
        "From here actual model begins:\n",
        "\n",
        "---\n",
        "---"
      ]
    },
    {
      "cell_type": "markdown",
      "metadata": {
        "id": "05O9wcuqnVn0"
      },
      "source": [
        "In this section :-\n",
        "[1] We'll Generate training and testing images from the dataset in which we have currently created the images\n",
        "\n",
        "[2] Construct the CNN model [VGG-19]\n",
        "\n",
        "[3] Do the hyper parameter Optimization also called as hyper parameter tuning"
      ]
    },
    {
      "cell_type": "markdown",
      "metadata": {
        "id": "FMHGE8KsWmRM"
      },
      "source": [
        "Notebook 2 for CNN model development:-"
      ]
    },
    {
      "cell_type": "code",
      "execution_count": null,
      "metadata": {
        "id": "VaucHQsqVrgF"
      },
      "outputs": [],
      "source": [
        "#Constructing a CNN Model:-\n",
        "import os\n",
        "import tensorflow\n",
        "from keras.preprocessing.image import  ImageDataGenerator\n",
        "from keras.layers import Dense,Flatten,GlobalAveragePooling2D,Input,Conv2D,MaxPooling2D,Dropout\n",
        "from keras.models import Model,load_model,Sequential\n",
        "import keras.callbacks as kcallbacks\n",
        "import keras\n",
        "from keras.preprocessing.image import load_img,img_to_array\n",
        "import math\n",
        "import random\n",
        "from tensorflow.keras.utils import plot_model\n",
        "import matplotlib.pyplot as plt\n",
        "import sklearn.metrics as metrics\n",
        "import numpy as np\n",
        "from PIL import Image\n",
        "from sklearn.metrics import accuracy_score,precision_score,recall_score,f1_score\n",
        "from tensorflow.keras.optimizers import Adam"
      ]
    },
    {
      "cell_type": "markdown",
      "metadata": {
        "id": "KXID3TRnSUEk"
      },
      "source": [
        "---"
      ]
    },
    {
      "cell_type": "markdown",
      "metadata": {
        "id": "jPiFH9WdXWYw"
      },
      "source": [
        "Generating training and testing images:"
      ]
    },
    {
      "cell_type": "code",
      "execution_count": null,
      "metadata": {
        "colab": {
          "base_uri": "https://localhost:8080/"
        },
        "id": "D6MdRP_iXVXX",
        "outputId": "cc58efcd-df6a-4770-fbaf-18e9b1f2b3d2"
      },
      "outputs": [
        {
          "name": "stdout",
          "output_type": "stream",
          "text": [
            "Found 2681 images belonging to 5 classes.\n",
            "Found 670 images belonging to 5 classes.\n"
          ]
        }
      ],
      "source": [
        "TARGET_SIZE = (224,224)\n",
        "INPUT_SIZE = (224,224,3)\n",
        "BATCH_SIZE = 128\n",
        "\n",
        "#Normalizing the values\n",
        "\n",
        "train_datagen = ImageDataGenerator(rescale =1./255)\n",
        "test_datagen = ImageDataGenerator(rescale = 1./255)\n",
        "\n",
        "train_generator = train_datagen.flow_from_directory(\n",
        "    './train_224/',\n",
        "    target_size = TARGET_SIZE,\n",
        "    batch_size = BATCH_SIZE,\n",
        "    class_mode = 'categorical'\n",
        ")\n",
        "\n",
        "validation_generator = test_datagen.flow_from_directory(\n",
        "    './test_224/',\n",
        "    target_size = TARGET_SIZE,\n",
        "    batch_size = BATCH_SIZE,\n",
        "    class_mode = 'categorical'\n",
        ")"
      ]
    },
    {
      "cell_type": "markdown",
      "metadata": {
        "id": "lAZq-r0eSVHA"
      },
      "source": [
        "---"
      ]
    },
    {
      "cell_type": "markdown",
      "metadata": {
        "id": "d1FyUcm9YZAk"
      },
      "source": [
        "Defining the image plotting functions:\n",
        "\n",
        "Plotting the various graphs for the accuracy, validation accuracy etc."
      ]
    },
    {
      "cell_type": "code",
      "execution_count": null,
      "metadata": {
        "id": "o_4-Qh9zYYJ1"
      },
      "outputs": [],
      "source": [
        "class LossHistory(keras.callbacks.Callback):\n",
        "\n",
        "    def on_train_begin(self, logs={}):\n",
        "        self.losses = {'batch':[], 'epoch':[]}\n",
        "        self.accuracy = {'batch':[], 'epoch':[]}\n",
        "        self.val_loss = {'batch':[], 'epoch':[]}\n",
        "        self.val_accuracy = {'batch':[], 'epoch':[]}\n",
        "    def on_batch_end(self, batch, logs={}):\n",
        "        self.losses['batch'].append(logs.get('loss'))\n",
        "        self.accuracy['batch'].append(logs.get('accuracy'))\n",
        "        self.val_loss['batch'].append(logs.get('val_loss'))\n",
        "        self.val_accuracy['batch'].append(logs.get('val_accuracy'))\n",
        "    def on_epoch_end(self, batch, logs={}):\n",
        "        self.losses['epoch'].append(logs.get('loss'))\n",
        "        self.accuracy['epoch'].append(logs.get('accuracy'))\n",
        "        self.val_loss['epoch'].append(logs.get('val_loss'))\n",
        "        self.val_accuracy['epoch'].append(logs.get('val_accuracy'))\n",
        "    def loss_plot(self, loss_type):\n",
        "        iters = range(len(self.losses[loss_type]))\n",
        "        plt.figure()\n",
        "        plt.plot(iters, self.losses[loss_type], 'g', label='train loss')\n",
        "        if loss_type == 'epoch':\n",
        "            # acc\n",
        "            plt.plot(iters, self.accuracy[loss_type], 'r', label='train accuracy')\n",
        "            # loss\n",
        "            plt.plot(iters, self.losses[loss_type], 'g', label='train loss')\n",
        "            # val_acc\n",
        "            plt.plot(iters, self.val_accuracy[loss_type], 'b', label='val accuracy')\n",
        "            # val_loss\n",
        "            plt.plot(iters, self.val_loss[loss_type], 'k', label='val loss')\n",
        "        plt.grid(True)\n",
        "        plt.xlabel(loss_type)\n",
        "        plt.ylabel('acc-loss')\n",
        "        plt.legend()\n",
        "        plt.show()"
      ]
    },
    {
      "cell_type": "markdown",
      "metadata": {
        "id": "_vGRqzMrSWCy"
      },
      "source": [
        "---"
      ]
    },
    {
      "cell_type": "code",
      "execution_count": null,
      "metadata": {
        "id": "5Tli76QlYuse"
      },
      "outputs": [],
      "source": [
        "  history_this = LossHistory()"
      ]
    },
    {
      "cell_type": "markdown",
      "metadata": {
        "id": "YoAY_nclSWqK"
      },
      "source": [
        "---"
      ]
    },
    {
      "cell_type": "markdown",
      "metadata": {
        "id": "1-vxVghciJ5m"
      },
      "source": [
        "Constructing the CNN model:"
      ]
    },
    {
      "cell_type": "code",
      "execution_count": null,
      "metadata": {
        "id": "4JrcOiJ3iJL-"
      },
      "outputs": [],
      "source": [
        "#VGG 19 is used:\n",
        "import tensorflow as tf\n",
        "import keras\n",
        "from keras.applications.vgg19 import VGG19\n",
        "def vgg19( num_class, epochs,frozen = 19, lr= 0.001, patience = 2,dropout_rate = 0.5, savepath='./VGG19.h5',history=history_this,input_shape=INPUT_SIZE):\n",
        "    model_fine_tune = VGG19(include_top=False, weights='imagenet', input_shape=(224,224,3))\n",
        "    for layer in model_fine_tune.layers[:19]:\t#the number of frozen layers for transfer learning, have tuned from 5-18\n",
        "        layer.trainable = False\n",
        "    for layer in model_fine_tune.layers[19:]:\n",
        "        layer.trainable = True\n",
        "    model = GlobalAveragePooling2D()(model_fine_tune.output)\n",
        "    model=Dense(units=256,activation='relu')(model)\n",
        "    model=Dropout(0.5)(model)\n",
        "    model = Dense(num_class, activation='softmax')(model)\n",
        "    model = Model(model_fine_tune.input, model, name='vgg')\n",
        "    opt = tf.keras.optimizers.Adam(lr=0.001, beta_1=0.9, beta_2=0.999, epsilon=1e-08)\t#tuned learning rate to be 0.001\n",
        "    model.compile(loss='categorical_crossentropy', optimizer=opt, metrics=['accuracy', tf.keras.metrics.SensitivityAtSpecificity(0.5), tf.keras.metrics.FalsePositives(),tf.keras.metrics.TruePositives(),tf.keras.metrics.TrueNegatives(),tf.keras.metrics.FalseNegatives()])\t#set the loss function to be binary crossentropy\n",
        "    #train model\n",
        "    earlyStopping = kcallbacks.EarlyStopping(\n",
        "        monitor='val_accuracy', patience=4, verbose=1, mode='auto')\t#set early stop patience to save training time\n",
        "    saveBestModel = kcallbacks.ModelCheckpoint(\n",
        "        filepath=savepath,\n",
        "        monitor='val_accuracy' ,\n",
        "        verbose=1,\n",
        "        save_best_only=True,\n",
        "        mode='auto')\n",
        "    hist = model.fit_generator(\n",
        "        train_generator,\n",
        "        steps_per_epoch=len(train_generator),\n",
        "        epochs=epochs,\n",
        "        validation_data=validation_generator,\n",
        "        validation_steps=len(validation_generator),\n",
        "        use_multiprocessing=True,\n",
        "        # workers=2,\n",
        "        callbacks=[earlyStopping, saveBestModel, history],\n",
        "    )"
      ]
    },
    {
      "cell_type": "markdown",
      "metadata": {
        "id": "PO0RdyAlSXlQ"
      },
      "source": [
        "---"
      ]
    },
    {
      "cell_type": "code",
      "execution_count": null,
      "metadata": {
        "colab": {
          "base_uri": "https://localhost:8080/"
        },
        "id": "dmaNmIAkidHt",
        "outputId": "14d59ae7-5001-4863-d193-eedb56dc3809"
      },
      "outputs": [
        {
          "name": "stdout",
          "output_type": "stream",
          "text": [
            "Downloading data from https://storage.googleapis.com/tensorflow/keras-applications/vgg19/vgg19_weights_tf_dim_ordering_tf_kernels_notop.h5\n",
            "80142336/80134624 [==============================] - 1s 0us/step\n",
            "80150528/80134624 [==============================] - 1s 0us/step\n",
            "Epoch 1/10\n",
            "21/21 [==============================] - ETA: 0s - loss: 0.4257 - accuracy: 0.8724 - sensitivity_at_specificity: 0.9851 - false_positives: 201.0000 - true_positives: 2309.0000 - true_negatives: 10523.0000 - false_negatives: 372.0000\n",
            "Epoch 1: val_accuracy improved from -inf to 0.96866, saving model to ./VGG19.h5\n",
            "21/21 [==============================] - 65s 2s/step - loss: 0.4257 - accuracy: 0.8724 - sensitivity_at_specificity: 0.9851 - false_positives: 201.0000 - true_positives: 2309.0000 - true_negatives: 10523.0000 - false_negatives: 372.0000 - val_loss: 0.0492 - val_accuracy: 0.9687 - val_sensitivity_at_specificity: 1.0000 - val_false_positives: 0.0000e+00 - val_true_positives: 649.0000 - val_true_negatives: 2680.0000 - val_false_negatives: 21.0000\n",
            "Epoch 2/10\n",
            "21/21 [==============================] - ETA: 0s - loss: 0.0104 - accuracy: 0.9974 - sensitivity_at_specificity: 1.0000 - false_positives: 1.0000 - true_positives: 2668.0000 - true_negatives: 10723.0000 - false_negatives: 13.0000\n",
            "Epoch 2: val_accuracy improved from 0.96866 to 1.00000, saving model to ./VGG19.h5\n",
            "21/21 [==============================] - 26s 1s/step - loss: 0.0104 - accuracy: 0.9974 - sensitivity_at_specificity: 1.0000 - false_positives: 1.0000 - true_positives: 2668.0000 - true_negatives: 10723.0000 - false_negatives: 13.0000 - val_loss: 1.1116e-04 - val_accuracy: 1.0000 - val_sensitivity_at_specificity: 1.0000 - val_false_positives: 0.0000e+00 - val_true_positives: 670.0000 - val_true_negatives: 2680.0000 - val_false_negatives: 0.0000e+00\n",
            "Epoch 3/10\n",
            "21/21 [==============================] - ETA: 0s - loss: 4.0995e-04 - accuracy: 1.0000 - sensitivity_at_specificity: 1.0000 - false_positives: 0.0000e+00 - true_positives: 2681.0000 - true_negatives: 10724.0000 - false_negatives: 0.0000e+00\n",
            "Epoch 3: val_accuracy did not improve from 1.00000\n",
            "21/21 [==============================] - 27s 1s/step - loss: 4.0995e-04 - accuracy: 1.0000 - sensitivity_at_specificity: 1.0000 - false_positives: 0.0000e+00 - true_positives: 2681.0000 - true_negatives: 10724.0000 - false_negatives: 0.0000e+00 - val_loss: 2.7934e-08 - val_accuracy: 1.0000 - val_sensitivity_at_specificity: 1.0000 - val_false_positives: 0.0000e+00 - val_true_positives: 670.0000 - val_true_negatives: 2680.0000 - val_false_negatives: 0.0000e+00\n",
            "Epoch 4/10\n",
            "21/21 [==============================] - ETA: 0s - loss: 1.0303e-04 - accuracy: 1.0000 - sensitivity_at_specificity: 1.0000 - false_positives: 0.0000e+00 - true_positives: 2681.0000 - true_negatives: 10724.0000 - false_negatives: 0.0000e+00\n",
            "Epoch 4: val_accuracy did not improve from 1.00000\n",
            "21/21 [==============================] - 26s 1s/step - loss: 1.0303e-04 - accuracy: 1.0000 - sensitivity_at_specificity: 1.0000 - false_positives: 0.0000e+00 - true_positives: 2681.0000 - true_negatives: 10724.0000 - false_negatives: 0.0000e+00 - val_loss: 2.6511e-08 - val_accuracy: 1.0000 - val_sensitivity_at_specificity: 1.0000 - val_false_positives: 0.0000e+00 - val_true_positives: 670.0000 - val_true_negatives: 2680.0000 - val_false_negatives: 0.0000e+00\n",
            "Epoch 5/10\n",
            "21/21 [==============================] - ETA: 0s - loss: 1.2428e-05 - accuracy: 1.0000 - sensitivity_at_specificity: 1.0000 - false_positives: 0.0000e+00 - true_positives: 2681.0000 - true_negatives: 10724.0000 - false_negatives: 0.0000e+00\n",
            "Epoch 5: val_accuracy did not improve from 1.00000\n",
            "21/21 [==============================] - 28s 1s/step - loss: 1.2428e-05 - accuracy: 1.0000 - sensitivity_at_specificity: 1.0000 - false_positives: 0.0000e+00 - true_positives: 2681.0000 - true_negatives: 10724.0000 - false_negatives: 0.0000e+00 - val_loss: 1.3344e-08 - val_accuracy: 1.0000 - val_sensitivity_at_specificity: 1.0000 - val_false_positives: 0.0000e+00 - val_true_positives: 670.0000 - val_true_negatives: 2680.0000 - val_false_negatives: 0.0000e+00\n",
            "Epoch 6/10\n",
            "21/21 [==============================] - ETA: 0s - loss: 3.4153e-06 - accuracy: 1.0000 - sensitivity_at_specificity: 1.0000 - false_positives: 0.0000e+00 - true_positives: 2681.0000 - true_negatives: 10724.0000 - false_negatives: 0.0000e+00\n",
            "Epoch 6: val_accuracy did not improve from 1.00000\n",
            "21/21 [==============================] - 27s 1s/step - loss: 3.4153e-06 - accuracy: 1.0000 - sensitivity_at_specificity: 1.0000 - false_positives: 0.0000e+00 - true_positives: 2681.0000 - true_negatives: 10724.0000 - false_negatives: 0.0000e+00 - val_loss: 1.0320e-08 - val_accuracy: 1.0000 - val_sensitivity_at_specificity: 1.0000 - val_false_positives: 0.0000e+00 - val_true_positives: 670.0000 - val_true_negatives: 2680.0000 - val_false_negatives: 0.0000e+00\n",
            "Epoch 6: early stopping\n"
          ]
        }
      ],
      "source": [
        "vgg19(num_class=5,epochs=10)"
      ]
    },
    {
      "cell_type": "markdown",
      "metadata": {
        "id": "bueNF5_tSYWB"
      },
      "source": [
        "---"
      ]
    },
    {
      "cell_type": "markdown",
      "metadata": {
        "id": "76-i5o9tQtrp"
      },
      "source": [
        "The Parameters Calculated at 5th Epoch are as follows:\n",
        "\n",
        "---\n",
        "\n",
        "[1] False Positive: 5.00\n",
        "\n",
        "---\n",
        "\n",
        "[2] True Positive: 23378.00\n",
        "\n",
        "---\n",
        "\n",
        "[3] True Negative: 93527.00\n",
        "\n",
        "---\n",
        "\n",
        "[4] False Negative: 5.00\n",
        "\n",
        "---\n",
        "\n",
        "[5] FPR (False Positive Rate) = 0.001\n",
        "\n",
        "---\n",
        "\n",
        "[6]TPR(True Positive Rate) ="
      ]
    },
    {
      "cell_type": "code",
      "execution_count": null,
      "metadata": {
        "colab": {
          "base_uri": "https://localhost:8080/",
          "height": 541
        },
        "id": "Bl6zPPMgT6-v",
        "outputId": "d2340a90-3b4a-4c08-8b87-82afa984db6c"
      },
      "outputs": [
        {
          "data": {
            "image/png": "[encoded data removed]",
            "text/plain": [
              "<Figure size 432x288 with 1 Axes>"
            ]
          },
          "metadata": {},
          "output_type": "display_data"
        },
        {
          "data": {
            "image/png": "[encoded data removed]",
            "text/plain": [
              "<Figure size 432x288 with 1 Axes>"
            ]
          },
          "metadata": {},
          "output_type": "display_data"
        }
      ],
      "source": [
        "history_this.loss_plot('epoch')\n",
        "history_this.loss_plot('batch')\n",
        "plt.show()"
      ]
    },
    {
      "cell_type": "markdown",
      "metadata": {
        "id": "x6YFaiDTSZQ1"
      },
      "source": [
        "---"
      ]
    },
    {
      "cell_type": "markdown",
      "metadata": {
        "id": "oO7DogN0qyIj"
      },
      "source": [
        "---\n",
        "---\n",
        "From here testing model starts:\n",
        "\n",
        "---\n",
        "---"
      ]
    },
    {
      "cell_type": "code",
      "execution_count": null,
      "metadata": {
        "id": "R0IoA8xugz6p"
      },
      "outputs": [],
      "source": [
        "from tensorflow.keras.utils import plot_model\n",
        "from keras.callbacks import EarlyStopping, ReduceLROnPlateau, ModelCheckpoint, LearningRateScheduler\n",
        "from tensorflow.keras.optimizers import SGD\n",
        "import operator\n",
        "import numpy as np\n",
        "from PIL import Image\n",
        "from collections import defaultdict"
      ]
    },
    {
      "cell_type": "markdown",
      "metadata": {
        "id": "fzi4BeE7SZ8o"
      },
      "source": [
        "---"
      ]
    },
    {
      "cell_type": "code",
      "execution_count": null,
      "metadata": {
        "colab": {
          "base_uri": "https://localhost:8080/"
        },
        "id": "7j5xc85Jq5oE",
        "outputId": "2890d676-be62-45b9-addf-3d40404ed579"
      },
      "outputs": [
        {
          "name": "stdout",
          "output_type": "stream",
          "text": [
            "Found 670 images belonging to 5 classes.\n"
          ]
        }
      ],
      "source": [
        "test_datagen = ImageDataGenerator(rescale = 1./255)\n",
        "validation_generator = test_datagen.flow_from_directory(\n",
        "    './test_224/',\n",
        "    target_size = TARGET_SIZE,\n",
        "    batch_size = BATCH_SIZE,\n",
        "    class_mode = 'categorical'\n",
        ")"
      ]
    },
    {
      "cell_type": "markdown",
      "metadata": {
        "id": "pHxwWtwsSa2U"
      },
      "source": [
        "---"
      ]
    },
    {
      "cell_type": "code",
      "execution_count": null,
      "metadata": {
        "id": "En8NMJ9JrIoq"
      },
      "outputs": [],
      "source": [
        "label=validation_generator.class_indices\n",
        "label={v: k for k, v in label.items()}"
      ]
    },
    {
      "cell_type": "markdown",
      "metadata": {
        "id": "ji87nygjSbYA"
      },
      "source": [
        "---"
      ]
    },
    {
      "cell_type": "code",
      "execution_count": null,
      "metadata": {
        "colab": {
          "base_uri": "https://localhost:8080/"
        },
        "id": "enuTTNuCrkFj",
        "outputId": "5dac12ff-a0e9-4834-a3cc-4efbf6684ecb"
      },
      "outputs": [
        {
          "name": "stdout",
          "output_type": "stream",
          "text": [
            "{0: '0', 1: '1', 2: '2', 3: '3', 4: '4'}\n"
          ]
        }
      ],
      "source": [
        "print(label)"
      ]
    },
    {
      "cell_type": "markdown",
      "metadata": {
        "id": "F_bzhM5uSbyA"
      },
      "source": [
        "---"
      ]
    },
    {
      "cell_type": "code",
      "execution_count": null,
      "metadata": {
        "colab": {
          "base_uri": "https://localhost:8080/"
        },
        "id": "H1a4SfhFrox7",
        "outputId": "62201aed-c115-4e75-f51f-29abf72faec9"
      },
      "outputs": [
        {
          "name": "stdout",
          "output_type": "stream",
          "text": [
            "1 ./test_224/1/17079.png\n"
          ]
        }
      ],
      "source": [
        "rootdir = './test_224/'\n",
        "test_laels = []\n",
        "test_images = []\n",
        "for subdir, dirs, files in os.walk(rootdir):\n",
        "  for file in files:\n",
        "    if not(file.endswith(\".jpeg\"))|(file.endswith(\".png\"))|(file.endswith(\".jpg\")):\n",
        "      continue\n",
        "    test_laels.append(subdir.split('/')[-1])\n",
        "    test_images.append(os.path.join(subdir, file))\n",
        "\n",
        "print(test_laels[0],test_images[0])"
      ]
    },
    {
      "cell_type": "markdown",
      "metadata": {
        "id": "atJGrUwiScWl"
      },
      "source": [
        "---"
      ]
    },
    {
      "cell_type": "code",
      "execution_count": null,
      "metadata": {
        "id": "4xb8eNImtZBE"
      },
      "outputs": [],
      "source": [
        "vgg19_model = load_model('./VGG19.h5')"
      ]
    },
    {
      "cell_type": "markdown",
      "metadata": {
        "id": "mGkRztZgSc49"
      },
      "source": [
        "---"
      ]
    },
    {
      "cell_type": "code",
      "execution_count": null,
      "metadata": {
        "colab": {
          "base_uri": "https://localhost:8080/",
          "height": 321
        },
        "id": "Ei8g6CyrvX_6",
        "outputId": "ae728dcb-3432-41c5-d06a-fe72ab318f04"
      },
      "outputs": [
        {
          "name": "stdout",
          "output_type": "stream",
          "text": [
            "3\n",
            "Predicted result for the first image: DoS\n",
            "Confidence level: 1.0\n"
          ]
        },
        {
          "data": {
            "image/png": "[encoded data removed]",
            "text/plain": [
              "<Figure size 432x288 with 1 Axes>"
            ]
          },
          "metadata": {},
          "output_type": "display_data"
        }
      ],
      "source": [
        "#Single image prediction\n",
        "import cv2\n",
        "import matplotlib.pyplot as plt\n",
        "test=cv2.imread('/content/train_224/3/10003.png')\n",
        "# print(test)\n",
        "img_show=test[:,:,[2,1,0]]\n",
        "# print(img_show)\n",
        "test=test/255.\n",
        "test_shape=(1,)+test.shape\n",
        "test=test.reshape(test_shape)\n",
        "\n",
        "res=vgg19_model.predict(test)\n",
        "\n",
        "prob=res[0,np.argmax(res,axis=1)[0]]\n",
        "res=label[np.argmax(res,axis=1)[0]]\n",
        "print(res)\n",
        "if res == '4' :\n",
        "  res = 'Fuzzy'\n",
        "elif res == '2':\n",
        "  res = 'Gear'\n",
        "elif res == '1':\n",
        "  res = 'RPM'\n",
        "elif res == '3':\n",
        "  res = 'DoS'\n",
        "elif res == '0' :\n",
        "  res = 'Normal'\n",
        "else :\n",
        "  print('invalid image')\n",
        "# print(type(res))\n",
        "print('Predicted result for the first image: %s'%res)\n",
        "print('Confidence level: %s'%prob)\n",
        "plt.imshow(img_show)\n",
        "plt.show()"
      ]
    },
    {
      "cell_type": "markdown",
      "metadata": {
        "id": "SQ9ReGhPSd2o"
      },
      "source": [
        "---"
      ]
    },
    {
      "cell_type": "code",
      "execution_count": null,
      "metadata": {
        "colab": {
          "base_uri": "https://localhost:8080/"
        },
        "id": "-yAXwMagM4zd",
        "outputId": "af4f102a-5b25-4460-d798-b7c34337980e"
      },
      "outputs": [
        {
          "name": "stdout",
          "output_type": "stream",
          "text": [
            "CPU times: user 39.6 s, sys: 1.07 s, total: 40.7 s\n",
            "Wall time: 40.5 s\n"
          ]
        }
      ],
      "source": [
        "%%time\n",
        "import time\n",
        "predict=[]\n",
        "length=len(test_images)\n",
        "t1 = time.time()\n",
        "for i in range(length):\n",
        "    inputimg=test_images[i]\n",
        "    test_batch=[]\n",
        "    thisimg=np.array(Image.open(inputimg))/255 #read all the images in validation set\n",
        "    #print(thisimg)\n",
        "    test_shape=(1,)+thisimg.shape\n",
        "    thisimg=thisimg.reshape(test_shape)\n",
        "    vgg19_model_batch=vgg19_model.predict(thisimg) #use master model to process the input image\n",
        "    #generate result by model 1\n",
        "    prob=vgg19_model_batch[0,np.argmax(vgg19_model_batch,axis=1)[0]]\n",
        "    res=label[np.argmax(vgg19_model_batch,axis=1)[0]]\n",
        "    predict.append(res)\n",
        ""
      ]
    },
    {
      "cell_type": "markdown",
      "metadata": {
        "id": "vPyeJ9msSegA"
      },
      "source": [
        "---"
      ]
    },
    {
      "cell_type": "code",
      "execution_count": null,
      "metadata": {
        "colab": {
          "base_uri": "https://localhost:8080/"
        },
        "id": "YuRfADpYYQnL",
        "outputId": "fe868410-4ca6-406f-db83-d5f74fb21837"
      },
      "outputs": [
        {
          "name": "stdout",
          "output_type": "stream",
          "text": [
            "VGG19 accuracy: 1.0\n",
            "precision: 1.0\n",
            "recall: 1.0\n",
            "f1: 1.0\n",
            "[[581   0   0   0   0]\n",
            " [  0  27   0   0   0]\n",
            " [  0   0  20   0   0]\n",
            " [  0   0   0  21   0]\n",
            " [  0   0   0   0  21]]\n",
            "              precision    recall  f1-score   support\n",
            "\n",
            "           0       1.00      1.00      1.00       581\n",
            "           1       1.00      1.00      1.00        27\n",
            "           2       1.00      1.00      1.00        20\n",
            "           3       1.00      1.00      1.00        21\n",
            "           4       1.00      1.00      1.00        21\n",
            "\n",
            "    accuracy                           1.00       670\n",
            "   macro avg       1.00      1.00      1.00       670\n",
            "weighted avg       1.00      1.00      1.00       670\n",
            "\n"
          ]
        }
      ],
      "source": [
        "from sklearn.metrics import accuracy_score,precision_score,recall_score,f1_score\n",
        "acc=accuracy_score(test_laels,predict)\n",
        "pre=precision_score(test_laels,predict,average='weighted')\n",
        "re=recall_score(test_laels,predict,average='weighted')\n",
        "f1=f1_score(test_laels,predict,average='weighted')\n",
        "# FPR = tf.metrics.\n",
        "print('VGG19 accuracy: %s'%acc)\n",
        "print('precision: %s'%pre)\n",
        "print('recall: %s'%re)\n",
        "print('f1: %s'%f1)\n",
        "from sklearn.metrics import classification_report, confusion_matrix\n",
        "print(confusion_matrix(test_laels, predict))\n",
        "target_names = ['0','1','2','3','4']\n",
        "print(classification_report(test_laels, predict, target_names=target_names))"
      ]
    },
    {
      "cell_type": "markdown",
      "metadata": {
        "id": "0_1PgvQdSgAA"
      },
      "source": [
        "The Above are the various parameters for the testing done."
      ]
    }
  ],
  "metadata": {
    "accelerator": "GPU",
    "colab": {
      "provenance": []
    },
    "gpuClass": "standard",
    "kernelspec": {
      "display_name": "Python 3",
      "name": "python3"
    },
    "language_info": {
      "name": "python"
    }
  },
  "nbformat": 4,
  "nbformat_minor": 0
}
